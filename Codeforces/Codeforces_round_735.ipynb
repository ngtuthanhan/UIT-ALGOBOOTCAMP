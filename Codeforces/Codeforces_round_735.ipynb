{
  "nbformat": 4,
  "nbformat_minor": 0,
  "metadata": {
    "colab": {
      "name": "Codeforces round #735.ipynb",
      "provenance": [],
      "authorship_tag": "ABX9TyNpurI2QtSmZY9FjsGH9Py3",
      "include_colab_link": true
    },
    "kernelspec": {
      "name": "python3",
      "display_name": "Python 3"
    },
    "language_info": {
      "name": "python"
    }
  },
  "cells": [
    {
      "cell_type": "markdown",
      "metadata": {
        "id": "view-in-github",
        "colab_type": "text"
      },
      "source": [
        "<a href=\"https://colab.research.google.com/github/ngtuthanhan/UIT-ALGOBOOTCAMP/blob/main/Codeforces/Codeforces_round_735.ipynb\" target=\"_parent\"><img src=\"https://colab.research.google.com/assets/colab-badge.svg\" alt=\"Open In Colab\"/></a>"
      ]
    },
    {
      "cell_type": "markdown",
      "metadata": {
        "id": "JJ1w38abkAYP"
      },
      "source": [
        "# **CODEFORCES ROUND #735 (Div. 2)**\n",
        "\n"
      ]
    },
    {
      "cell_type": "markdown",
      "metadata": {
        "id": "KBoeRERZkNsP"
      },
      "source": [
        "## D. Diane"
      ]
    },
    {
      "cell_type": "markdown",
      "metadata": {
        "id": "1XBzl4i4kZYg"
      },
      "source": [
        "**Source:** [D. Diane](https://codeforces.com/contest/1554/problem/D)\n",
        "\n",
        "**Tutorial:** Xét một chuỗi con gồm k kí tự 'a', ta sẽ thêm một chuỗi con gồm k-1 kí tự 'a' khác thì ta sẽ đảm bảo được yêu cầu bài toán là mỗi chuỗi con được tạo ra khác rỗng sẽ xuất hiện một số lượng lẻ. Để đảm bảo ta sẽ in ra đủ n kí tự, ở giữa ta sẽ thêm các chuỗi 'b', 'bc' tùy ý\n",
        "**Code:**"
      ]
    },
    {
      "cell_type": "code",
      "metadata": {
        "colab": {
          "base_uri": "https://localhost:8080/",
          "height": 131
        },
        "id": "BqasHq5Wj_n2",
        "outputId": "42ee934b-2cf4-4dd1-b9d3-b8f2466035ca"
      },
      "source": [
        "#include <bits/stdc++.h>\n",
        " \n",
        "using namespace std;\n",
        " \n",
        "int main()\n",
        "{\n",
        "    int t;\n",
        "    cin >> t;\n",
        "    while (t--)\n",
        "    {\n",
        "        int n;\n",
        "        string s;\n",
        "        cin >> n;\n",
        "        if (n==1) cout << 'a';\n",
        "        else if (n%2==0)\n",
        "        {\n",
        "            for (int i=0;i<n/2;i++)\n",
        "                cout << 'a';\n",
        "            cout << 'b';\n",
        "            for (int i=0;i<n/2-1;i++)\n",
        "                cout << 'a';\n",
        "        } else\n",
        "        {\n",
        "            for (int i=0;i<n/2;i++)\n",
        "                cout << 'a';\n",
        "            cout << \"bc\";\n",
        "            for (int i=0;i<n/2-1;i++)\n",
        "                cout << 'a';\n",
        "        }\n",
        "        cout << endl;\n",
        " \n",
        "    }\n",
        "    return 0;\n",
        "}"
      ],
      "execution_count": 1,
      "outputs": [
        {
          "output_type": "error",
          "ename": "SyntaxError",
          "evalue": "ignored",
          "traceback": [
            "\u001b[0;36m  File \u001b[0;32m\"<ipython-input-1-fd8fb68b394a>\"\u001b[0;36m, line \u001b[0;32m3\u001b[0m\n\u001b[0;31m    using namespace std;\u001b[0m\n\u001b[0m                  ^\u001b[0m\n\u001b[0;31mSyntaxError\u001b[0m\u001b[0;31m:\u001b[0m invalid syntax\n"
          ]
        }
      ]
    }
  ]
}