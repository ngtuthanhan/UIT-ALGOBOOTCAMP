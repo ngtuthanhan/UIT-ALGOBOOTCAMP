{
  "nbformat": 4,
  "nbformat_minor": 0,
  "metadata": {
    "colab": {
      "name": "Warm up .ipynb",
      "provenance": [],
      "collapsed_sections": []
    },
    "kernelspec": {
      "name": "python3",
      "display_name": "Python 3"
    },
    "language_info": {
      "name": "python"
    }
  },
  "cells": [
    {
      "cell_type": "markdown",
      "metadata": {
        "id": "T881CUv7UsL_"
      },
      "source": [
        "# 1. VW05p_Enrichement\n",
        "[Đề bài](https://khmt.uit.edu.vn/wecode/algobootcamp/assignment/4/8)\n"
      ]
    },
    {
      "cell_type": "markdown",
      "metadata": {
        "id": "umpgp55dUWQZ"
      },
      "source": [
        "**Tóm tắt**\n",
        "  \n",
        "  Cho ma trận có kích thước $( 3\\leq n,m;n\\times m \\leq 10^{6} )$, tìm ma trận con $3\\times3$ sao cho có tổng các phần tử nhỏ nhất \n",
        "\n",
        "---\n",
        "\n",
        "**Ý tưởng**\n",
        "\n",
        "  Duyệt tất cả các ô $a_{ij}$, tìm tổng của các ma trận $3 \\times  3$ có ô trái trên là $a_{ij}$ và ô phải dưới là $a_{(i+2)(j+2)}$ rồi lấy tổng nhất nhỏ là kết quả. ĐPT: $O(n \\times m)$"
      ]
    },
    {
      "cell_type": "code",
      "metadata": {
        "colab": {
          "base_uri": "https://localhost:8080/"
        },
        "id": "xmF3W9sYUehl",
        "outputId": "b6e16c41-5ca4-41b5-e1af-7f0bd7ac05b5"
      },
      "source": [
        "n, m = map(int, input().split())\n",
        "\n",
        "a = []\n",
        "\n",
        "for i in range(0, n):\n",
        "    tmp = list(map(int, input().split()))\n",
        "    a.append(tmp)\n",
        "\n",
        "res = 1e6\n",
        "for i in range(0, n - 2):\n",
        "    for j in range(0, m - 2):\n",
        "        curSum = 0\n",
        "        for u in range(i, i + 3):\n",
        "            for v in range(j, j + 3):\n",
        "                curSum += a[u][v]\n",
        "        res = min(res, curSum)\n",
        "\n",
        "print(res)"
      ],
      "execution_count": null,
      "outputs": [
        {
          "output_type": "stream",
          "text": [
            "5 7\n",
            "10 2 3 7 10 4 8\n",
            "3 2 1 9 6 2 1\n",
            "0 3 6 7 8 9 10\n",
            "5 4 3 0 2 1 8\n",
            "9 2 3 10 6 4 8\t\n",
            "27\n"
          ],
          "name": "stdout"
        }
      ]
    },
    {
      "cell_type": "markdown",
      "metadata": {
        "id": "xLqm27m_UhEM"
      },
      "source": [
        "# 2. VW04p_Checkout\n",
        "[Đề bài](https://khmt.uit.edu.vn/wecode/algobootcamp/assignment/4/9)\n"
      ]
    },
    {
      "cell_type": "markdown",
      "metadata": {
        "id": "T7YpauuEU40w"
      },
      "source": [
        "**Tóm tắt**\n",
        "\n",
        "Cho $d, a_1, a_2, v_{max}, t$, tìm thời gian nhỏ nhất từ lúc vận tốc $0$, tăng tốc lên $v$ với gia tốc $a_1$, duy trì vận tốc này trong thời gian ít nhất $t$, giảm dần vận tốc về $0$ với gia tốc $a_2$ tổng quãng đường đi được là $d$.\n",
        "\n",
        "\n",
        "---\n",
        "**Ý tưởng**\n",
        "\n",
        "Chia quãng đường $d$ thành 3 đoạn $s_1, s_2, s_3$ với $s_1$ là từ lúc vận tốc bằng $0$ đến lúc vận tốc là $v$ với gia tốc là $a_1, s_2$ là quãng đường vận tốc giữ nguyên là $v, s_3$ là quãng đường từ lúc vận tốc $v$ giảm dần về $0$ với gia tốc là $a_2$.\n",
        "\n",
        "Ta sẽ tham lam (greedy), cho thời gian trong quãng đường $s_2$ là $t$, sau đó tìm vận tốc $v$, từ vận tốc $v$ tìm được, ta tính thời gian cho $2$ quãng đường $s_1, s_3$ rồi có được kết quả.\n",
        "\n",
        "Trong trường hợp v tìm được lớn hơn $v_{max}$, ta sẽ làm ngược lại, cho vận tốc chạy trong quãng đường $s_2$ là $v_{max}$, rồi tính thời gian trong các quãng đường s1, s2, s3. Các công thức vật lý được dùng:$$v = \\frac{s}{t}$$$$v = v_0 + at$$$$s = v_0t + \\frac{1}{2}at^2$$$$v^2 - v_0^2 = 2as$$\n",
        "\n",
        "Trường hợp tìm $v$ theo $t$, ta có phương trình :$$s_1 + s_2 + s_3 = d$$$$\\Leftrightarrow \\frac{v^2}{2a_1} + vt + \\frac{v^2}{2a_2} = d$$$$\\Leftrightarrow v^2(\\frac{1}{2a_1} + \\frac{1}{2a_2}) + vt - d = 0$$Giải phương trình bậc 2, ẩn $v$, tìm nghiệm $v$ dương, với 3 hệ số của phương trình là $\\frac{1}{2a_1} + \\frac{1}{2a_2}, t, -d$, đặt $a = \\frac{1}{2a_1} + \\frac{1}{2a_2}$, ta được:$$v = \\frac{-t + \\sqrt{t^2 + 4ad}}{2a} $$là vận tốc cần tìm.\n",
        "\n",
        "Thời gian chạy trong quãng đường $s_1$ là: $t_1=\\frac{v}{a_1}$. Thời gian chạy trong quãng đường $s_3$ là: $t_3=\\frac{v}{a_2}$. Kết quả cần tìm là : $t_1 + t + t_3$.\n",
        "\n",
        "Trường hợp $v$ tìm được lớn hơn $v_{max}$: Thời gian chạy trong quãng đường $s_1$ là: $t_1 = \\frac{v_{max}}{a_1}$. Thời gian chạy trong quãng đường $s_3$ là: $t_3 = \\frac{v_{max}}{a_2}$. Quãng đường $s_2$: $s_2 = d - \\frac{v_{max}^2}{2a_1} - \\frac{v_{max}^2}{2a_2}$. Thời gian chạy trong quãng đường s2 là: $t_2 = \\frac{s_2}{v_{max}} = \\frac{d}{v_{max}} - \\frac{v_{max}}{2a_1} - \\frac{v_{max}}{2a_2}$. Kết quả cần tìm là: $t_1 + t_2 + t_3$."
      ]
    },
    {
      "cell_type": "code",
      "metadata": {
        "colab": {
          "base_uri": "https://localhost:8080/"
        },
        "id": "gVP8b6SKVCs-",
        "outputId": "335dfe48-6ab8-4515-f467-4623836f3770"
      },
      "source": [
        "import math\n",
        "d, a1, a2, v_max, t = map(float, input().split())\n",
        "a = 1/(2*a1) + 1/(2*a2)\n",
        "v = (-t + math.sqrt(t*t + 4*a*d))/(2*a)\n",
        "if v <= v_max:\n",
        "    ans = v / a1 + t + v / a2\n",
        "else:\n",
        "    ans = v_max / (2*a1) + v /(2*a2) + d / v_max\n",
        "print (\"{:.12f}\".format(ans))"
      ],
      "execution_count": null,
      "outputs": [
        {
          "output_type": "stream",
          "text": [
            "20.5 0.5 0.6 3 7.5\n",
            "14.373007108234\n"
          ],
          "name": "stdout"
        }
      ]
    },
    {
      "cell_type": "markdown",
      "metadata": {
        "id": "L7-Uyw-tVbbj"
      },
      "source": [
        "# 3. VW07p_Vitamin\n",
        "[Đề bài](https://khmt.uit.edu.vn/wecode/algobootcamp/assignment/4/10)\n",
        "\n"
      ]
    },
    {
      "cell_type": "markdown",
      "metadata": {
        "id": "m-L3JwYuVgh8"
      },
      "source": [
        "\n",
        "**Tóm tắt**\n",
        "\n",
        "- Cho $n, x$ và mảng $a_i$. \n",
        "- Đặt $a'_i =\t\\sum_{j=1}^{i} a_j$ khi $1\\leq i \\leq n$.\n",
        "- $a'_i = a'_n+(i-n)a_n$ khi $i>n$\n",
        "- $ n = a'_1k_1 + a'_2k_2 +...+a'_xk_x, k_i>=0, \t\\forall i$\n",
        "- Tối thiểu hóa $\\sum k_i - 1$\n",
        "\n",
        "---\n",
        "\n",
        "**Ý tưởng**\n",
        "\n",
        "- Bài toán trên có thể duyệt lần lượt từng trường hợp tối thiểu\n",
        "- Nhận thấy bài toán tối thiểu hóa $\\sum k_i - 1$ với $n = k$ có thể giải quyết bằng các bài toán tối thiểu hóa $\\sum k_i - x, 1 \\leq x\\leq n$ với $n = k - 1$, ta có thể lưu lại các bài toán con trên\n",
        "- Gọi bài toán tối thiểu hóa $\\sum k_i$ với $n = k$ là $f(k)$, ta có $f(k) = \\min (i\\geq0, n-a'_i\\geq0)(f(n-a'_i) + i)$\n",
        "- Kết quả bài toán tối thiểu hóa $\\sum k_i - 1$ với $n = k$ là $f(k) - 1$"
      ]
    },
    {
      "cell_type": "code",
      "metadata": {
        "colab": {
          "base_uri": "https://localhost:8080/"
        },
        "id": "oRiijRSvWVt-",
        "outputId": "df20fe0f-c4db-4265-e031-12fdbe96b5f6"
      },
      "source": [
        "import numpy as np\n",
        "n, x = map(int, input().split())\n",
        "tto = list(map(int, input().split()))\n",
        "last = tto[n-1];\n",
        "mdp = []\n",
        "for i in range(1,n):\n",
        "  tto[i] = tto[i] + tto[i-1]\n",
        "mdp.append(0)\n",
        "for i in range(1,x+1):\n",
        "  if (((i-tto[n-1])%last==0) and (i>=tto[n-1])):\n",
        "    mdp.append(((i-tto[n-1])/last) + n + 1)\n",
        "  else:\n",
        "    mdp.append(1000005)\n",
        "for i in range(1,x+1):\n",
        "  for j in range(1,n):\n",
        "    if (i>=tto[j]):\n",
        "      mdp[i] = min(mdp[i],mdp[i-tto[j]]+j+2)\n",
        "    else:\n",
        "      break\n",
        "kq = mdp[x]\n",
        "if (kq>=1000002):\n",
        "  print(-1)\n",
        "else:\n",
        "  print(kq-1)"
      ],
      "execution_count": null,
      "outputs": [
        {
          "output_type": "stream",
          "text": [
            "5 12\n",
            "1 4 2 6 3\n",
            "6\n"
          ],
          "name": "stdout"
        }
      ]
    }
  ]
}
